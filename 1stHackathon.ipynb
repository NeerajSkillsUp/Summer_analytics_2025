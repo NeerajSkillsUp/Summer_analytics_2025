{
  "cells": [
    {
      "cell_type": "code",
      "execution_count": 3,
      "metadata": {
        "id": "IuIJHhCZngyq",
        "colab": {
          "base_uri": "https://localhost:8080/"
        },
        "outputId": "bb50ec4d-e48f-4c53-ffb5-cbac04dd6730"
      },
      "outputs": [
        {
          "output_type": "stream",
          "name": "stderr",
          "text": [
            "/usr/local/lib/python3.11/dist-packages/sklearn/linear_model/_logistic.py:1247: FutureWarning: 'multi_class' was deprecated in version 1.5 and will be removed in 1.7. From then on, it will always use 'multinomial'. Leave it to its default value to avoid this warning.\n",
            "  warnings.warn(\n"
          ]
        }
      ],
      "source": [
        "import numpy as np\n",
        "import pandas as pd\n",
        "from sklearn.linear_model import LogisticRegression\n",
        "from sklearn.pipeline import make_pipeline\n",
        "from sklearn.preprocessing import StandardScaler\n",
        "from sklearn.impute import SimpleImputer\n",
        "\n",
        "def preprocess_data(df):\n",
        "    \"\"\"Basic preprocessing for NDVI data\"\"\"\n",
        "    ndvi_cols = [col for col in df.columns if '_N' in col]\n",
        "\n",
        "    features = pd.DataFrame()\n",
        "    features['ID'] = df['ID']\n",
        "\n",
        "    features['ndvi_mean'] = df[ndvi_cols].mean(axis=1)\n",
        "    features['ndvi_std'] = df[ndvi_cols].std(axis=1)\n",
        "    features['ndvi_min'] = df[ndvi_cols].min(axis=1)\n",
        "    features['ndvi_max'] = df[ndvi_cols].max(axis=1)\n",
        "    features['ndvi_range'] = features['ndvi_max'] - features['ndvi_min']\n",
        "\n",
        "    half = len(ndvi_cols) // 2\n",
        "    features['first_half_mean'] = df[ndvi_cols[:half]].mean(axis=1)\n",
        "    features['second_half_mean'] = df[ndvi_cols[half:]].mean(axis=1)\n",
        "    return features\n",
        "\n",
        "train = pd.read_csv('hacktrain.csv')\n",
        "test = pd.read_csv('hacktest.csv')\n",
        "\n",
        "X_train = preprocess_data(train.drop(columns=['class']))\n",
        "y_train = train['class']\n",
        "X_test = preprocess_data(test)\n",
        "\n",
        "model = make_pipeline(\n",
        "    SimpleImputer(strategy='median'),\n",
        "    StandardScaler(),\n",
        "    LogisticRegression(multi_class='multinomial',\n",
        "                      solver='lbfgs',\n",
        "                      max_iter=1000,\n",
        "                      C=0.1)\n",
        ")\n",
        "\n",
        "model.fit(X_train.drop(columns=['ID']), y_train)\n",
        "\n",
        "predictions = model.predict(X_test.drop(columns=['ID']))\n",
        "\n",
        "submission = pd.DataFrame({'ID': X_test['ID'], 'class': predictions})\n",
        "submission.to_csv('submission.csv', index=False)"
      ]
    }
  ],
  "metadata": {
    "colab": {
      "provenance": []
    },
    "kernelspec": {
      "display_name": "Python 3",
      "name": "python3"
    },
    "language_info": {
      "name": "python"
    }
  },
  "nbformat": 4,
  "nbformat_minor": 0
}